{
  "nbformat": 4,
  "nbformat_minor": 0,
  "metadata": {
    "colab": {
      "provenance": [],
      "mount_file_id": "1Iya2TwN2fc_377OFIAw96vLdjKdIJ0rH",
      "authorship_tag": "ABX9TyOiGH4IXFT4jx/PE7ssyuJC",
      "include_colab_link": true
    },
    "kernelspec": {
      "name": "python3",
      "display_name": "Python 3"
    },
    "language_info": {
      "name": "python"
    }
  },
  "cells": [
    {
      "cell_type": "markdown",
      "metadata": {
        "id": "view-in-github",
        "colab_type": "text"
      },
      "source": [
        "<a href=\"https://colab.research.google.com/github/raspberryscorn/3_9_1/blob/main/main.ipynb\" target=\"_parent\"><img src=\"https://colab.research.google.com/assets/colab-badge.svg\" alt=\"Open In Colab\"/></a>"
      ]
    },
    {
      "cell_type": "code",
      "execution_count": null,
      "metadata": {
        "id": "D-iKFEGKWbn5"
      },
      "outputs": [],
      "source": [
        "cd \"/content/drive/MyDrive/ddeep/bhban_ai/SECTION_3/Chapter_9/3_9_1\""
      ]
    },
    {
      "cell_type": "code",
      "source": [
        "\"\"\"\n",
        "Author : Byunghyun Ban\n",
        "Date : 2020.07.24.\n",
        "\"\"\"\n",
        "import data_reader\n",
        "import tensorflow_hub as hub\n",
        "\n",
        "\n",
        "# 데이터를 불러옵니다.\n",
        "dr = data_reader.DataReader(\"content.jpg\", \"style.jpg\")\n",
        "\n",
        "# Hub로부터 style transfer 모듈을 불러옵니다.\n",
        "hub_module = hub.load(\n",
        "    'https://tfhub.dev/google/magenta/arbitrary-image-stylization-v1-256/1'\n",
        ")\n",
        "\n",
        "# 모듈에 이미지를 삽입해 Style Transfer를 실시합니다.\n",
        "stylized_image = hub_module(dr.content, dr.style)[0]\n",
        "\n",
        "# 결과를 출력합니다.\n",
        "result = data_reader.tensor_to_image(stylized_image)\n",
        "\n",
        "# 결과를 저장합니다.\n",
        "result.save(\"result.jpg\")\n"
      ],
      "metadata": {
        "id": "KQpEKnYHWrkM"
      },
      "execution_count": null,
      "outputs": []
    }
  ]
}