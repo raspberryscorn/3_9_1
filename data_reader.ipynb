{
  "nbformat": 4,
  "nbformat_minor": 0,
  "metadata": {
    "colab": {
      "provenance": [],
      "mount_file_id": "1_PuKtCYIs_8vz0_-2r5ZrHE1C0Vnuse7",
      "authorship_tag": "ABX9TyPiW4nVonVPkwYWr2yMR6mA",
      "include_colab_link": true
    },
    "kernelspec": {
      "name": "python3",
      "display_name": "Python 3"
    },
    "language_info": {
      "name": "python"
    }
  },
  "cells": [
    {
      "cell_type": "markdown",
      "metadata": {
        "id": "view-in-github",
        "colab_type": "text"
      },
      "source": [
        "<a href=\"https://colab.research.google.com/github/raspberryscorn/3_9_1/blob/main/data_reader.ipynb\" target=\"_parent\"><img src=\"https://colab.research.google.com/assets/colab-badge.svg\" alt=\"Open In Colab\"/></a>"
      ]
    },
    {
      "cell_type": "code",
      "execution_count": null,
      "metadata": {
        "id": "nnJOMbhWUkR9"
      },
      "outputs": [],
      "source": [
        "cd \"/content/drive/MyDrive/ddeep/bhban_ai/SECTION_3/Chapter_9/3_9_1\""
      ]
    },
    {
      "cell_type": "code",
      "source": [
        "\"\"\"\n",
        "Author : Byunghyun Ban\n",
        "Date : 2020.07.17.\n",
        "\"\"\"\n",
        "\"\"\"\n",
        "This code uses sample codes from \"tensorflow.org\",\n",
        "which has Apache 2.0 license.\n",
        "\"\"\"\n",
        "import tensorflow as tf\n",
        "import os\n",
        "os.environ['TF_CPP_MIN_LOG_LEVEL'] = '3'\n",
        "import time\n",
        "try:\n",
        "    from matplotlib import pyplot as plt\n",
        "except ModuleNotFoundError:\n",
        "    import pip\n",
        "    pip.main(['install', 'matplotlib'])\n",
        "    try:\n",
        "        from matplotlib import pyplot as plt\n",
        "    except ModuleNotFoundError:\n",
        "        time.sleep(2)\n",
        "        from matplotlib import pyplot as plt\n",
        "\n",
        "try:\n",
        "    import numpy as np\n",
        "except ModuleNotFoundError:\n",
        "    import pip\n",
        "    pip.main(['install', 'numpy'])\n",
        "    try:\n",
        "        import numpy as np\n",
        "    except ModuleNotFoundError:\n",
        "        time.sleep(2)\n",
        "        import numpy as np\n",
        "\n",
        "try:\n",
        "    from PIL import Image\n",
        "except ModuleNotFoundError:\n",
        "    import pip\n",
        "    pip.main(['install', 'pillow'])\n",
        "    try:\n",
        "        from PIL import Image\n",
        "    except ModuleNotFoundError:\n",
        "        time.sleep(2)\n",
        "        from PIL import Image\n",
        "\n",
        "try:\n",
        "    import tensorflow_hub as hub\n",
        "except ModuleNotFoundError:\n",
        "    import pip\n",
        "    pip.main(['install', 'tensorflow_hub'])\n",
        "    try:\n",
        "        import tensorflow_hub as hub\n",
        "    except ModuleNotFoundError:\n",
        "        time.sleep(2)\n",
        "        import tensorflow_hub as hub\n",
        "\n",
        "\n",
        "# 데이터를 떠먹여 줄 클래스를 제작합니다.\n",
        "class DataReader():\n",
        "    def __init__(self, content, style):\n",
        "        self.content = self.load_img(content)\n",
        "        self.style = self.load_img(style)\n",
        "\n",
        "    def load_img(self, path_to_img):\n",
        "      max_dim = 512\n",
        "      img = tf.io.read_file(path_to_img)\n",
        "      img = tf.image.decode_image(img, channels=3)\n",
        "      img = tf.image.convert_image_dtype(img, tf.float32)\n",
        "\n",
        "      shape = tf.cast(tf.shape(img)[:-1], tf.float32)\n",
        "      long_dim = max(shape)\n",
        "      scale = max_dim / long_dim\n",
        "\n",
        "      new_shape = tf.cast(shape * scale, tf.int32)\n",
        "\n",
        "      img = tf.image.resize(img, new_shape)\n",
        "      img = img[tf.newaxis, :]\n",
        "      return tf.constant(img)\n",
        "\n",
        "\n",
        "def tensor_to_image(tensor):\n",
        "  tensor = tensor*255\n",
        "  tensor = np.array(tensor, dtype=np.uint8)\n",
        "  if np.ndim(tensor)>3:\n",
        "    assert tensor.shape[0] == 1\n",
        "    tensor = tensor[0]\n",
        "  return Image.fromarray(tensor)\n"
      ],
      "metadata": {
        "id": "OsFC3fsIWCtP"
      },
      "execution_count": null,
      "outputs": []
    }
  ]
}